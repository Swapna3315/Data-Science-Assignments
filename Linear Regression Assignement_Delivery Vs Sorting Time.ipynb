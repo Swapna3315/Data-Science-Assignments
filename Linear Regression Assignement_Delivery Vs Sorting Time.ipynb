{
 "cells": [
  {
   "cell_type": "code",
   "execution_count": 1,
   "id": "41ff2d80",
   "metadata": {
    "ExecuteTime": {
     "end_time": "2023-05-08T10:20:40.825662Z",
     "start_time": "2023-05-08T10:20:39.838210Z"
    }
   },
   "outputs": [],
   "source": [
    "import pandas as pd\n",
    "import numpy as np\n",
    "import matplotlib.pyplot as plt\n"
   ]
  },
  {
   "cell_type": "code",
   "execution_count": 2,
   "id": "0e2bb728",
   "metadata": {
    "ExecuteTime": {
     "end_time": "2023-05-08T10:20:41.991334Z",
     "start_time": "2023-05-08T10:20:41.960571Z"
    }
   },
   "outputs": [],
   "source": [
    "data=pd.read_csv('delivery_time.csv')"
   ]
  },
  {
   "cell_type": "code",
   "execution_count": 3,
   "id": "a91e4049",
   "metadata": {
    "ExecuteTime": {
     "end_time": "2023-05-08T10:20:44.217812Z",
     "start_time": "2023-05-08T10:20:44.187754Z"
    }
   },
   "outputs": [
    {
     "data": {
      "text/html": [
       "<div>\n",
       "<style scoped>\n",
       "    .dataframe tbody tr th:only-of-type {\n",
       "        vertical-align: middle;\n",
       "    }\n",
       "\n",
       "    .dataframe tbody tr th {\n",
       "        vertical-align: top;\n",
       "    }\n",
       "\n",
       "    .dataframe thead th {\n",
       "        text-align: right;\n",
       "    }\n",
       "</style>\n",
       "<table border=\"1\" class=\"dataframe\">\n",
       "  <thead>\n",
       "    <tr style=\"text-align: right;\">\n",
       "      <th></th>\n",
       "      <th>Delivery Time</th>\n",
       "      <th>Sorting Time</th>\n",
       "    </tr>\n",
       "  </thead>\n",
       "  <tbody>\n",
       "    <tr>\n",
       "      <th>0</th>\n",
       "      <td>21.00</td>\n",
       "      <td>10</td>\n",
       "    </tr>\n",
       "    <tr>\n",
       "      <th>1</th>\n",
       "      <td>13.50</td>\n",
       "      <td>4</td>\n",
       "    </tr>\n",
       "    <tr>\n",
       "      <th>2</th>\n",
       "      <td>19.75</td>\n",
       "      <td>6</td>\n",
       "    </tr>\n",
       "    <tr>\n",
       "      <th>3</th>\n",
       "      <td>24.00</td>\n",
       "      <td>9</td>\n",
       "    </tr>\n",
       "    <tr>\n",
       "      <th>4</th>\n",
       "      <td>29.00</td>\n",
       "      <td>10</td>\n",
       "    </tr>\n",
       "    <tr>\n",
       "      <th>5</th>\n",
       "      <td>15.35</td>\n",
       "      <td>6</td>\n",
       "    </tr>\n",
       "    <tr>\n",
       "      <th>6</th>\n",
       "      <td>19.00</td>\n",
       "      <td>7</td>\n",
       "    </tr>\n",
       "    <tr>\n",
       "      <th>7</th>\n",
       "      <td>9.50</td>\n",
       "      <td>3</td>\n",
       "    </tr>\n",
       "    <tr>\n",
       "      <th>8</th>\n",
       "      <td>17.90</td>\n",
       "      <td>10</td>\n",
       "    </tr>\n",
       "    <tr>\n",
       "      <th>9</th>\n",
       "      <td>18.75</td>\n",
       "      <td>9</td>\n",
       "    </tr>\n",
       "    <tr>\n",
       "      <th>10</th>\n",
       "      <td>19.83</td>\n",
       "      <td>8</td>\n",
       "    </tr>\n",
       "    <tr>\n",
       "      <th>11</th>\n",
       "      <td>10.75</td>\n",
       "      <td>4</td>\n",
       "    </tr>\n",
       "    <tr>\n",
       "      <th>12</th>\n",
       "      <td>16.68</td>\n",
       "      <td>7</td>\n",
       "    </tr>\n",
       "    <tr>\n",
       "      <th>13</th>\n",
       "      <td>11.50</td>\n",
       "      <td>3</td>\n",
       "    </tr>\n",
       "    <tr>\n",
       "      <th>14</th>\n",
       "      <td>12.03</td>\n",
       "      <td>3</td>\n",
       "    </tr>\n",
       "    <tr>\n",
       "      <th>15</th>\n",
       "      <td>14.88</td>\n",
       "      <td>4</td>\n",
       "    </tr>\n",
       "    <tr>\n",
       "      <th>16</th>\n",
       "      <td>13.75</td>\n",
       "      <td>6</td>\n",
       "    </tr>\n",
       "    <tr>\n",
       "      <th>17</th>\n",
       "      <td>18.11</td>\n",
       "      <td>7</td>\n",
       "    </tr>\n",
       "    <tr>\n",
       "      <th>18</th>\n",
       "      <td>8.00</td>\n",
       "      <td>2</td>\n",
       "    </tr>\n",
       "    <tr>\n",
       "      <th>19</th>\n",
       "      <td>17.83</td>\n",
       "      <td>7</td>\n",
       "    </tr>\n",
       "    <tr>\n",
       "      <th>20</th>\n",
       "      <td>21.50</td>\n",
       "      <td>5</td>\n",
       "    </tr>\n",
       "  </tbody>\n",
       "</table>\n",
       "</div>"
      ],
      "text/plain": [
       "    Delivery Time  Sorting Time\n",
       "0           21.00            10\n",
       "1           13.50             4\n",
       "2           19.75             6\n",
       "3           24.00             9\n",
       "4           29.00            10\n",
       "5           15.35             6\n",
       "6           19.00             7\n",
       "7            9.50             3\n",
       "8           17.90            10\n",
       "9           18.75             9\n",
       "10          19.83             8\n",
       "11          10.75             4\n",
       "12          16.68             7\n",
       "13          11.50             3\n",
       "14          12.03             3\n",
       "15          14.88             4\n",
       "16          13.75             6\n",
       "17          18.11             7\n",
       "18           8.00             2\n",
       "19          17.83             7\n",
       "20          21.50             5"
      ]
     },
     "execution_count": 3,
     "metadata": {},
     "output_type": "execute_result"
    }
   ],
   "source": [
    "data"
   ]
  },
  {
   "cell_type": "code",
   "execution_count": null,
   "id": "f1c45d2b",
   "metadata": {},
   "outputs": [],
   "source": [
    "##Here Responser : Delivery Time and Predictor : Sorting Time\n",
    "## x= sorting Time and y = Delivery Time\n",
    "## EDA \n"
   ]
  },
  {
   "cell_type": "code",
   "execution_count": 4,
   "id": "108d2113",
   "metadata": {
    "ExecuteTime": {
     "end_time": "2023-05-08T10:20:47.408939Z",
     "start_time": "2023-05-08T10:20:47.391935Z"
    }
   },
   "outputs": [
    {
     "data": {
      "text/plain": [
       "Delivery Time    0\n",
       "Sorting Time     0\n",
       "dtype: int64"
      ]
     },
     "execution_count": 4,
     "metadata": {},
     "output_type": "execute_result"
    }
   ],
   "source": [
    "##data.info()\n",
    "data.isnull().sum()"
   ]
  },
  {
   "cell_type": "code",
   "execution_count": 5,
   "id": "8129189f",
   "metadata": {
    "ExecuteTime": {
     "end_time": "2023-05-08T10:20:49.426781Z",
     "start_time": "2023-05-08T10:20:49.390431Z"
    }
   },
   "outputs": [
    {
     "data": {
      "text/html": [
       "<div>\n",
       "<style scoped>\n",
       "    .dataframe tbody tr th:only-of-type {\n",
       "        vertical-align: middle;\n",
       "    }\n",
       "\n",
       "    .dataframe tbody tr th {\n",
       "        vertical-align: top;\n",
       "    }\n",
       "\n",
       "    .dataframe thead th {\n",
       "        text-align: right;\n",
       "    }\n",
       "</style>\n",
       "<table border=\"1\" class=\"dataframe\">\n",
       "  <thead>\n",
       "    <tr style=\"text-align: right;\">\n",
       "      <th></th>\n",
       "      <th>Delivery Time</th>\n",
       "      <th>Sorting Time</th>\n",
       "    </tr>\n",
       "  </thead>\n",
       "  <tbody>\n",
       "    <tr>\n",
       "      <th>count</th>\n",
       "      <td>21.000000</td>\n",
       "      <td>21.000000</td>\n",
       "    </tr>\n",
       "    <tr>\n",
       "      <th>mean</th>\n",
       "      <td>16.790952</td>\n",
       "      <td>6.190476</td>\n",
       "    </tr>\n",
       "    <tr>\n",
       "      <th>std</th>\n",
       "      <td>5.074901</td>\n",
       "      <td>2.542028</td>\n",
       "    </tr>\n",
       "    <tr>\n",
       "      <th>min</th>\n",
       "      <td>8.000000</td>\n",
       "      <td>2.000000</td>\n",
       "    </tr>\n",
       "    <tr>\n",
       "      <th>25%</th>\n",
       "      <td>13.500000</td>\n",
       "      <td>4.000000</td>\n",
       "    </tr>\n",
       "    <tr>\n",
       "      <th>50%</th>\n",
       "      <td>17.830000</td>\n",
       "      <td>6.000000</td>\n",
       "    </tr>\n",
       "    <tr>\n",
       "      <th>75%</th>\n",
       "      <td>19.750000</td>\n",
       "      <td>8.000000</td>\n",
       "    </tr>\n",
       "    <tr>\n",
       "      <th>max</th>\n",
       "      <td>29.000000</td>\n",
       "      <td>10.000000</td>\n",
       "    </tr>\n",
       "  </tbody>\n",
       "</table>\n",
       "</div>"
      ],
      "text/plain": [
       "       Delivery Time  Sorting Time\n",
       "count      21.000000     21.000000\n",
       "mean       16.790952      6.190476\n",
       "std         5.074901      2.542028\n",
       "min         8.000000      2.000000\n",
       "25%        13.500000      4.000000\n",
       "50%        17.830000      6.000000\n",
       "75%        19.750000      8.000000\n",
       "max        29.000000     10.000000"
      ]
     },
     "execution_count": 5,
     "metadata": {},
     "output_type": "execute_result"
    }
   ],
   "source": [
    "data.describe()"
   ]
  },
  {
   "cell_type": "code",
   "execution_count": 6,
   "id": "06de7201",
   "metadata": {
    "ExecuteTime": {
     "end_time": "2023-05-08T10:20:52.157616Z",
     "start_time": "2023-05-08T10:20:52.142960Z"
    }
   },
   "outputs": [
    {
     "data": {
      "text/plain": [
       "Index(['Delivery Time', 'Sorting Time'], dtype='object')"
      ]
     },
     "execution_count": 6,
     "metadata": {},
     "output_type": "execute_result"
    }
   ],
   "source": [
    "data.columns"
   ]
  },
  {
   "cell_type": "code",
   "execution_count": 51,
   "id": "fe82f2ee",
   "metadata": {},
   "outputs": [
    {
     "data": {
      "text/plain": [
       "Index(['Delivery Time', 'Sorting Time'], dtype='object')"
      ]
     },
     "execution_count": 51,
     "metadata": {},
     "output_type": "execute_result"
    }
   ],
   "source": [
    "##data.rename({'Delivery Time':'Dtime','Sorting Time':'STime'},axis=1)\n",
    "##data.columns"
   ]
  },
  {
   "cell_type": "code",
   "execution_count": 7,
   "id": "411638a3",
   "metadata": {
    "ExecuteTime": {
     "end_time": "2023-05-08T10:20:58.837992Z",
     "start_time": "2023-05-08T10:20:58.428184Z"
    }
   },
   "outputs": [
    {
     "data": {
      "image/png": "[encoded data removed]",
      "text/plain": [
       "<Figure size 640x480 with 1 Axes>"
      ]
     },
     "metadata": {},
     "output_type": "display_data"
    }
   ],
   "source": [
    "## creating histogram for delivery time column\n",
    "##\n",
    "plt.hist(data['Delivery Time'],bins=[0,5,10,15,20,25,30],color='green')\n",
    "plt.xlabel('Delivery Time')\n",
    "plt.ylabel('Frequency')\n",
    "plt.show()"
   ]
  },
  {
   "cell_type": "code",
   "execution_count": 8,
   "id": "ece504b9",
   "metadata": {
    "ExecuteTime": {
     "end_time": "2023-05-08T10:21:01.595779Z",
     "start_time": "2023-05-08T10:21:01.253104Z"
    }
   },
   "outputs": [
    {
     "data": {
      "image/png": "[encoded data removed]",
      "text/plain": [
       "<Figure size 640x480 with 1 Axes>"
      ]
     },
     "metadata": {},
     "output_type": "display_data"
    }
   ],
   "source": [
    "## CReating histogram for Sorting Time Column\n",
    "plt.hist(data.iloc[:,1],bins=10,color='purple')\n",
    "plt.xlabel('Sorting Time')\n",
    "plt.ylabel('Frequency')\n",
    "plt.show()"
   ]
  },
  {
   "cell_type": "code",
   "execution_count": 53,
   "id": "6925d64c",
   "metadata": {
    "ExecuteTime": {
     "end_time": "2023-05-02T03:46:28.006947Z",
     "start_time": "2023-05-02T03:46:27.815866Z"
    }
   },
   "outputs": [
    {
     "data": {
      "image/png": "[encoded data removed]",
      "text/plain": [
       "<Figure size 640x480 with 1 Axes>"
      ]
     },
     "metadata": {},
     "output_type": "display_data"
    }
   ],
   "source": [
    "## Creating Box Plot for delivery Time Column\n",
    "plt.boxplot(data.iloc[:,0],vert = False)\n",
    "plt.xlabel('Delivery Time')\n",
    "plt.ylabel('Frequency')\n",
    "plt.title('Box Plot for Delivery Time')\n",
    "plt.show()"
   ]
  },
  {
   "cell_type": "code",
   "execution_count": 9,
   "id": "429e7248",
   "metadata": {
    "ExecuteTime": {
     "end_time": "2023-05-08T10:21:07.560335Z",
     "start_time": "2023-05-08T10:21:07.292830Z"
    }
   },
   "outputs": [
    {
     "data": {
      "text/plain": [
       "Text(0.5, 1.0, 'Box Plot for Sorting Time Column')"
      ]
     },
     "execution_count": 9,
     "metadata": {},
     "output_type": "execute_result"
    },
    {
     "data": {
      "image/png": "[encoded data removed]",
      "text/plain": [
       "<Figure size 640x480 with 1 Axes>"
      ]
     },
     "metadata": {},
     "output_type": "display_data"
    }
   ],
   "source": [
    "## Box plot for Sorting Time column\n",
    "plt.boxplot(data['Sorting Time'],vert = False)\n",
    "plt.xlabel('Sorting Time')\n",
    "plt.ylabel('Frequency')\n",
    "plt.title('Box Plot for Sorting Time Column')"
   ]
  },
  {
   "cell_type": "code",
   "execution_count": 10,
   "id": "7a5babae",
   "metadata": {
    "ExecuteTime": {
     "end_time": "2023-05-08T10:21:18.515167Z",
     "start_time": "2023-05-08T10:21:15.952741Z"
    }
   },
   "outputs": [
    {
     "data": {
      "text/plain": [
       "<Axes: xlabel='Sorting Time', ylabel='Delivery Time'>"
      ]
     },
     "execution_count": 10,
     "metadata": {},
     "output_type": "execute_result"
    },
    {
     "data": {
      "image/png": "[encoded data removed]",
      "text/plain": [
       "<Figure size 640x480 with 1 Axes>"
      ]
     },
     "metadata": {},
     "output_type": "display_data"
    }
   ],
   "source": [
    "## creating reg plot\n",
    "import seaborn as sns\n",
    "sns.regplot(x=data['Sorting Time'],y=data['Delivery Time'])"
   ]
  },
  {
   "cell_type": "code",
   "execution_count": 11,
   "id": "e6dc28a3",
   "metadata": {
    "ExecuteTime": {
     "end_time": "2023-05-08T10:21:18.624907Z",
     "start_time": "2023-05-08T10:21:18.595824Z"
    }
   },
   "outputs": [
    {
     "data": {
      "text/html": [
       "<div>\n",
       "<style scoped>\n",
       "    .dataframe tbody tr th:only-of-type {\n",
       "        vertical-align: middle;\n",
       "    }\n",
       "\n",
       "    .dataframe tbody tr th {\n",
       "        vertical-align: top;\n",
       "    }\n",
       "\n",
       "    .dataframe thead th {\n",
       "        text-align: right;\n",
       "    }\n",
       "</style>\n",
       "<table border=\"1\" class=\"dataframe\">\n",
       "  <thead>\n",
       "    <tr style=\"text-align: right;\">\n",
       "      <th></th>\n",
       "      <th>Delivery Time</th>\n",
       "      <th>Sorting Time</th>\n",
       "    </tr>\n",
       "  </thead>\n",
       "  <tbody>\n",
       "    <tr>\n",
       "      <th>Delivery Time</th>\n",
       "      <td>1.000000</td>\n",
       "      <td>0.825997</td>\n",
       "    </tr>\n",
       "    <tr>\n",
       "      <th>Sorting Time</th>\n",
       "      <td>0.825997</td>\n",
       "      <td>1.000000</td>\n",
       "    </tr>\n",
       "  </tbody>\n",
       "</table>\n",
       "</div>"
      ],
      "text/plain": [
       "               Delivery Time  Sorting Time\n",
       "Delivery Time       1.000000      0.825997\n",
       "Sorting Time        0.825997      1.000000"
      ]
     },
     "execution_count": 11,
     "metadata": {},
     "output_type": "execute_result"
    }
   ],
   "source": [
    "##First we need to find if there is any correlation between X and Y or not\n",
    "\n",
    "data.corr()\n",
    "\n",
    "## from the below correlation matrix we can find that both variables have correlation and value of r=0.82 \n",
    "## which means they are strong positive correlation"
   ]
  },
  {
   "cell_type": "code",
   "execution_count": 12,
   "id": "c81b9fdc",
   "metadata": {
    "ExecuteTime": {
     "end_time": "2023-05-08T10:21:26.154239Z",
     "start_time": "2023-05-08T10:21:25.734809Z"
    }
   },
   "outputs": [
    {
     "data": {
      "text/plain": [
       "Text(0.5, 1.0, 'Scatter Plot')"
      ]
     },
     "execution_count": 12,
     "metadata": {},
     "output_type": "execute_result"
    },
    {
     "data": {
      "image/png": "[encoded data removed]",
      "text/plain": [
       "<Figure size 640x480 with 1 Axes>"
      ]
     },
     "metadata": {},
     "output_type": "display_data"
    }
   ],
   "source": [
    "## Plot a scatter Plot for the two variables\n",
    "\n",
    "plt.scatter(data['Sorting Time'],data['Delivery Time'],c='green')\n",
    "plt.xlabel('Sorting Time')\n",
    "plt.ylabel('Delivery Time')\n",
    "plt.title('Scatter Plot')\n",
    "\n",
    "## from the below plot we can see that both the variables have very strong linear relationship."
   ]
  },
  {
   "cell_type": "code",
   "execution_count": 13,
   "id": "9efad82b",
   "metadata": {
    "ExecuteTime": {
     "end_time": "2023-05-08T10:21:30.329454Z",
     "start_time": "2023-05-08T10:21:29.995197Z"
    }
   },
   "outputs": [
    {
     "data": {
      "text/plain": [
       "<statsmodels.regression.linear_model.RegressionResultsWrapper at 0x1a714d565f0>"
      ]
     },
     "execution_count": 13,
     "metadata": {},
     "output_type": "execute_result"
    }
   ],
   "source": [
    "import statsmodels.formula.api as smf\n",
    "regmodel1 = smf.ols(\"data['Delivery Time']~data['Sorting Time']\",data=data).fit()\n",
    "regmodel1"
   ]
  },
  {
   "cell_type": "code",
   "execution_count": 14,
   "id": "5f229392",
   "metadata": {
    "ExecuteTime": {
     "end_time": "2023-05-08T10:21:35.722974Z",
     "start_time": "2023-05-08T10:21:35.670000Z"
    }
   },
   "outputs": [
    {
     "data": {
      "text/html": [
       "<table class=\"simpletable\">\n",
       "<caption>OLS Regression Results</caption>\n",
       "<tr>\n",
       "  <th>Dep. Variable:</th>    <td>data['Delivery Time']</td> <th>  R-squared:         </th> <td>   0.682</td>\n",
       "</tr>\n",
       "<tr>\n",
       "  <th>Model:</th>                     <td>OLS</td>          <th>  Adj. R-squared:    </th> <td>   0.666</td>\n",
       "</tr>\n",
       "<tr>\n",
       "  <th>Method:</th>               <td>Least Squares</td>     <th>  F-statistic:       </th> <td>   40.80</td>\n",
       "</tr>\n",
       "<tr>\n",
       "  <th>Date:</th>               <td>Mon, 08 May 2023</td>    <th>  Prob (F-statistic):</th> <td>3.98e-06</td>\n",
       "</tr>\n",
       "<tr>\n",
       "  <th>Time:</th>                   <td>15:51:35</td>        <th>  Log-Likelihood:    </th> <td> -51.357</td>\n",
       "</tr>\n",
       "<tr>\n",
       "  <th>No. Observations:</th>        <td>    21</td>         <th>  AIC:               </th> <td>   106.7</td>\n",
       "</tr>\n",
       "<tr>\n",
       "  <th>Df Residuals:</th>            <td>    19</td>         <th>  BIC:               </th> <td>   108.8</td>\n",
       "</tr>\n",
       "<tr>\n",
       "  <th>Df Model:</th>                <td>     1</td>         <th>                     </th>     <td> </td>   \n",
       "</tr>\n",
       "<tr>\n",
       "  <th>Covariance Type:</th>        <td>nonrobust</td>       <th>                     </th>     <td> </td>   \n",
       "</tr>\n",
       "</table>\n",
       "<table class=\"simpletable\">\n",
       "<tr>\n",
       "            <td></td>              <th>coef</th>     <th>std err</th>      <th>t</th>      <th>P>|t|</th>  <th>[0.025</th>    <th>0.975]</th>  \n",
       "</tr>\n",
       "<tr>\n",
       "  <th>Intercept</th>            <td>    6.5827</td> <td>    1.722</td> <td>    3.823</td> <td> 0.001</td> <td>    2.979</td> <td>   10.186</td>\n",
       "</tr>\n",
       "<tr>\n",
       "  <th>data['Sorting Time']</th> <td>    1.6490</td> <td>    0.258</td> <td>    6.387</td> <td> 0.000</td> <td>    1.109</td> <td>    2.189</td>\n",
       "</tr>\n",
       "</table>\n",
       "<table class=\"simpletable\">\n",
       "<tr>\n",
       "  <th>Omnibus:</th>       <td> 3.649</td> <th>  Durbin-Watson:     </th> <td>   1.248</td>\n",
       "</tr>\n",
       "<tr>\n",
       "  <th>Prob(Omnibus):</th> <td> 0.161</td> <th>  Jarque-Bera (JB):  </th> <td>   2.086</td>\n",
       "</tr>\n",
       "<tr>\n",
       "  <th>Skew:</th>          <td> 0.750</td> <th>  Prob(JB):          </th> <td>   0.352</td>\n",
       "</tr>\n",
       "<tr>\n",
       "  <th>Kurtosis:</th>      <td> 3.367</td> <th>  Cond. No.          </th> <td>    18.3</td>\n",
       "</tr>\n",
       "</table><br/><br/>Notes:<br/>[1] Standard Errors assume that the covariance matrix of the errors is correctly specified."
      ],
      "text/plain": [
       "<class 'statsmodels.iolib.summary.Summary'>\n",
       "\"\"\"\n",
       "                              OLS Regression Results                             \n",
       "=================================================================================\n",
       "Dep. Variable:     data['Delivery Time']   R-squared:                       0.682\n",
       "Model:                               OLS   Adj. R-squared:                  0.666\n",
       "Method:                    Least Squares   F-statistic:                     40.80\n",
       "Date:                   Mon, 08 May 2023   Prob (F-statistic):           3.98e-06\n",
       "Time:                           15:51:35   Log-Likelihood:                -51.357\n",
       "No. Observations:                     21   AIC:                             106.7\n",
       "Df Residuals:                         19   BIC:                             108.8\n",
       "Df Model:                              1                                         \n",
       "Covariance Type:               nonrobust                                         \n",
       "========================================================================================\n",
       "                           coef    std err          t      P>|t|      [0.025      0.975]\n",
       "----------------------------------------------------------------------------------------\n",
       "Intercept                6.5827      1.722      3.823      0.001       2.979      10.186\n",
       "data['Sorting Time']     1.6490      0.258      6.387      0.000       1.109       2.189\n",
       "==============================================================================\n",
       "Omnibus:                        3.649   Durbin-Watson:                   1.248\n",
       "Prob(Omnibus):                  0.161   Jarque-Bera (JB):                2.086\n",
       "Skew:                           0.750   Prob(JB):                        0.352\n",
       "Kurtosis:                       3.367   Cond. No.                         18.3\n",
       "==============================================================================\n",
       "\n",
       "Notes:\n",
       "[1] Standard Errors assume that the covariance matrix of the errors is correctly specified.\n",
       "\"\"\""
      ]
     },
     "execution_count": 14,
     "metadata": {},
     "output_type": "execute_result"
    }
   ],
   "source": [
    "regmodel1.summary()\n",
    "\n",
    "## R Square = 68% which is low. So we shall try other model"
   ]
  },
  {
   "cell_type": "code",
   "execution_count": 15,
   "id": "ebc937f5",
   "metadata": {
    "ExecuteTime": {
     "end_time": "2023-05-08T10:21:38.996828Z",
     "start_time": "2023-05-08T10:21:38.973160Z"
    }
   },
   "outputs": [
    {
     "data": {
      "text/plain": [
       "Intercept               6.582734\n",
       "data['Sorting Time']    1.649020\n",
       "dtype: float64"
      ]
     },
     "execution_count": 15,
     "metadata": {},
     "output_type": "execute_result"
    }
   ],
   "source": [
    "regmodel1.params"
   ]
  },
  {
   "cell_type": "code",
   "execution_count": 16,
   "id": "c9035074",
   "metadata": {
    "ExecuteTime": {
     "end_time": "2023-05-08T10:21:41.597974Z",
     "start_time": "2023-05-08T10:21:41.572814Z"
    }
   },
   "outputs": [
    {
     "data": {
      "text/plain": [
       "0    -2.072933\n",
       "1     0.321186\n",
       "2     3.273147\n",
       "3     2.576087\n",
       "4     5.927067\n",
       "5    -1.126853\n",
       "6     0.874127\n",
       "7    -2.029794\n",
       "8    -5.172933\n",
       "9    -2.673913\n",
       "10    0.055107\n",
       "11   -2.428814\n",
       "12   -1.445873\n",
       "13   -0.029794\n",
       "14    0.500206\n",
       "15    1.701186\n",
       "16   -2.726853\n",
       "17   -0.015873\n",
       "18   -1.880774\n",
       "19   -0.295873\n",
       "20    6.672167\n",
       "dtype: float64"
      ]
     },
     "execution_count": 16,
     "metadata": {},
     "output_type": "execute_result"
    }
   ],
   "source": [
    "regmodel1.resid"
   ]
  },
  {
   "cell_type": "code",
   "execution_count": 17,
   "id": "be50de97",
   "metadata": {
    "ExecuteTime": {
     "end_time": "2023-05-08T10:21:45.575586Z",
     "start_time": "2023-05-08T10:21:45.552152Z"
    }
   },
   "outputs": [],
   "source": [
    "predict_regmodel1 = regmodel1.predict(data['Sorting Time'])"
   ]
  },
  {
   "cell_type": "code",
   "execution_count": 18,
   "id": "f29d8d7b",
   "metadata": {
    "ExecuteTime": {
     "end_time": "2023-05-08T10:21:48.087535Z",
     "start_time": "2023-05-08T10:21:48.072833Z"
    }
   },
   "outputs": [
    {
     "data": {
      "text/plain": [
       "0     23.072933\n",
       "1     13.178814\n",
       "2     16.476853\n",
       "3     21.423913\n",
       "4     23.072933\n",
       "5     16.476853\n",
       "6     18.125873\n",
       "7     11.529794\n",
       "8     23.072933\n",
       "9     21.423913\n",
       "10    19.774893\n",
       "11    13.178814\n",
       "12    18.125873\n",
       "13    11.529794\n",
       "14    11.529794\n",
       "15    13.178814\n",
       "16    16.476853\n",
       "17    18.125873\n",
       "18     9.880774\n",
       "19    18.125873\n",
       "20    14.827833\n",
       "dtype: float64"
      ]
     },
     "execution_count": 18,
     "metadata": {},
     "output_type": "execute_result"
    }
   ],
   "source": [
    "predict_regmodel1"
   ]
  },
  {
   "cell_type": "code",
   "execution_count": 19,
   "id": "18f81493",
   "metadata": {
    "ExecuteTime": {
     "end_time": "2023-05-08T10:21:51.873475Z",
     "start_time": "2023-05-08T10:21:51.862853Z"
    }
   },
   "outputs": [],
   "source": [
    "rmse_regmodel1 = np.sqrt(np.mean((np.array(data['Delivery Time'])-np.array(predict_regmodel1))**2))"
   ]
  },
  {
   "cell_type": "code",
   "execution_count": 20,
   "id": "a749e904",
   "metadata": {
    "ExecuteTime": {
     "end_time": "2023-05-08T10:21:54.537636Z",
     "start_time": "2023-05-08T10:21:54.522111Z"
    }
   },
   "outputs": [
    {
     "data": {
      "text/plain": [
       "2.7916503270617654"
      ]
     },
     "execution_count": 20,
     "metadata": {},
     "output_type": "execute_result"
    }
   ],
   "source": [
    "rmse_regmodel1"
   ]
  },
  {
   "cell_type": "code",
   "execution_count": 21,
   "id": "4d7edc3f",
   "metadata": {
    "ExecuteTime": {
     "end_time": "2023-05-08T10:21:57.359535Z",
     "start_time": "2023-05-08T10:21:57.105954Z"
    }
   },
   "outputs": [
    {
     "data": {
      "image/png": "[encoded data removed]",
      "text/plain": [
       "<Figure size 640x480 with 1 Axes>"
      ]
     },
     "metadata": {},
     "output_type": "display_data"
    }
   ],
   "source": [
    "plt.scatter(data['Sorting Time'],data['Delivery Time'],c='Purple')\n",
    "##sns.regplot(x=data['Sorting Time'],y=data['Delivery Time'],color='Red')\n",
    "plt.plot(data['Sorting Time'],np.array(predict_regmodel1),c='green')\n",
    "plt.show()\n"
   ]
  },
  {
   "cell_type": "code",
   "execution_count": 22,
   "id": "29d6b2df",
   "metadata": {
    "ExecuteTime": {
     "end_time": "2023-05-08T10:22:00.679554Z",
     "start_time": "2023-05-08T10:22:00.625678Z"
    }
   },
   "outputs": [
    {
     "data": {
      "text/html": [
       "<table class=\"simpletable\">\n",
       "<caption>OLS Regression Results</caption>\n",
       "<tr>\n",
       "  <th>Dep. Variable:</th>    <td>data['Delivery Time']</td> <th>  R-squared:         </th> <td>   0.695</td>\n",
       "</tr>\n",
       "<tr>\n",
       "  <th>Model:</th>                     <td>OLS</td>          <th>  Adj. R-squared:    </th> <td>   0.679</td>\n",
       "</tr>\n",
       "<tr>\n",
       "  <th>Method:</th>               <td>Least Squares</td>     <th>  F-statistic:       </th> <td>   43.39</td>\n",
       "</tr>\n",
       "<tr>\n",
       "  <th>Date:</th>               <td>Mon, 08 May 2023</td>    <th>  Prob (F-statistic):</th> <td>2.64e-06</td>\n",
       "</tr>\n",
       "<tr>\n",
       "  <th>Time:</th>                   <td>15:52:00</td>        <th>  Log-Likelihood:    </th> <td> -50.912</td>\n",
       "</tr>\n",
       "<tr>\n",
       "  <th>No. Observations:</th>        <td>    21</td>         <th>  AIC:               </th> <td>   105.8</td>\n",
       "</tr>\n",
       "<tr>\n",
       "  <th>Df Residuals:</th>            <td>    19</td>         <th>  BIC:               </th> <td>   107.9</td>\n",
       "</tr>\n",
       "<tr>\n",
       "  <th>Df Model:</th>                <td>     1</td>         <th>                     </th>     <td> </td>   \n",
       "</tr>\n",
       "<tr>\n",
       "  <th>Covariance Type:</th>        <td>nonrobust</td>       <th>                     </th>     <td> </td>   \n",
       "</tr>\n",
       "</table>\n",
       "<table class=\"simpletable\">\n",
       "<tr>\n",
       "                <td></td>                  <th>coef</th>     <th>std err</th>      <th>t</th>      <th>P>|t|</th>  <th>[0.025</th>    <th>0.975]</th>  \n",
       "</tr>\n",
       "<tr>\n",
       "  <th>Intercept</th>                    <td>    1.1597</td> <td>    2.455</td> <td>    0.472</td> <td> 0.642</td> <td>   -3.978</td> <td>    6.297</td>\n",
       "</tr>\n",
       "<tr>\n",
       "  <th>np.log(data['Sorting Time'])</th> <td>    9.0434</td> <td>    1.373</td> <td>    6.587</td> <td> 0.000</td> <td>    6.170</td> <td>   11.917</td>\n",
       "</tr>\n",
       "</table>\n",
       "<table class=\"simpletable\">\n",
       "<tr>\n",
       "  <th>Omnibus:</th>       <td> 5.552</td> <th>  Durbin-Watson:     </th> <td>   1.427</td>\n",
       "</tr>\n",
       "<tr>\n",
       "  <th>Prob(Omnibus):</th> <td> 0.062</td> <th>  Jarque-Bera (JB):  </th> <td>   3.481</td>\n",
       "</tr>\n",
       "<tr>\n",
       "  <th>Skew:</th>          <td> 0.946</td> <th>  Prob(JB):          </th> <td>   0.175</td>\n",
       "</tr>\n",
       "<tr>\n",
       "  <th>Kurtosis:</th>      <td> 3.628</td> <th>  Cond. No.          </th> <td>    9.08</td>\n",
       "</tr>\n",
       "</table><br/><br/>Notes:<br/>[1] Standard Errors assume that the covariance matrix of the errors is correctly specified."
      ],
      "text/plain": [
       "<class 'statsmodels.iolib.summary.Summary'>\n",
       "\"\"\"\n",
       "                              OLS Regression Results                             \n",
       "=================================================================================\n",
       "Dep. Variable:     data['Delivery Time']   R-squared:                       0.695\n",
       "Model:                               OLS   Adj. R-squared:                  0.679\n",
       "Method:                    Least Squares   F-statistic:                     43.39\n",
       "Date:                   Mon, 08 May 2023   Prob (F-statistic):           2.64e-06\n",
       "Time:                           15:52:00   Log-Likelihood:                -50.912\n",
       "No. Observations:                     21   AIC:                             105.8\n",
       "Df Residuals:                         19   BIC:                             107.9\n",
       "Df Model:                              1                                         \n",
       "Covariance Type:               nonrobust                                         \n",
       "================================================================================================\n",
       "                                   coef    std err          t      P>|t|      [0.025      0.975]\n",
       "------------------------------------------------------------------------------------------------\n",
       "Intercept                        1.1597      2.455      0.472      0.642      -3.978       6.297\n",
       "np.log(data['Sorting Time'])     9.0434      1.373      6.587      0.000       6.170      11.917\n",
       "==============================================================================\n",
       "Omnibus:                        5.552   Durbin-Watson:                   1.427\n",
       "Prob(Omnibus):                  0.062   Jarque-Bera (JB):                3.481\n",
       "Skew:                           0.946   Prob(JB):                        0.175\n",
       "Kurtosis:                       3.628   Cond. No.                         9.08\n",
       "==============================================================================\n",
       "\n",
       "Notes:\n",
       "[1] Standard Errors assume that the covariance matrix of the errors is correctly specified.\n",
       "\"\"\""
      ]
     },
     "execution_count": 22,
     "metadata": {},
     "output_type": "execute_result"
    }
   ],
   "source": [
    "## Now lets try with log transformation of model as R2 is less than 75%\n",
    "log_regmodel=smf.ols(\"data['Delivery Time']~np.log(data['Sorting Time'])\",data=data).fit()\n",
    "log_regmodel.summary()\n",
    "\n",
    "## for this model our R2 value is 69%"
   ]
  },
  {
   "cell_type": "code",
   "execution_count": 28,
   "id": "f89695c2",
   "metadata": {
    "ExecuteTime": {
     "end_time": "2023-05-08T10:22:35.621547Z",
     "start_time": "2023-05-08T10:22:35.612021Z"
    }
   },
   "outputs": [
    {
     "data": {
      "text/plain": [
       "Intercept                       1.159684\n",
       "np.log(data['Sorting Time'])    9.043413\n",
       "dtype: float64"
      ]
     },
     "execution_count": 28,
     "metadata": {},
     "output_type": "execute_result"
    }
   ],
   "source": [
    "log_regmodel.params"
   ]
  },
  {
   "cell_type": "code",
   "execution_count": 31,
   "id": "01f60f02",
   "metadata": {
    "ExecuteTime": {
     "end_time": "2023-05-08T10:23:18.806204Z",
     "start_time": "2023-05-08T10:23:18.791372Z"
    }
   },
   "outputs": [],
   "source": [
    "##log_regmodel_predict = log_regmodel.predict(data['Sorting Time'])\n",
    "log_regmodel_predict = log_regmodel.predict(pd.DataFrame(data['Sorting Time']))"
   ]
  },
  {
   "cell_type": "code",
   "execution_count": 32,
   "id": "8ee1ad1a",
   "metadata": {
    "ExecuteTime": {
     "end_time": "2023-05-08T10:23:21.284843Z",
     "start_time": "2023-05-08T10:23:21.262725Z"
    }
   },
   "outputs": [
    {
     "data": {
      "text/plain": [
       "0     21.982913\n",
       "1     13.696517\n",
       "2     17.363305\n",
       "3     21.030094\n",
       "4     21.982913\n",
       "5     17.363305\n",
       "6     18.757354\n",
       "7     11.094889\n",
       "8     21.982913\n",
       "9     21.030094\n",
       "10    19.964933\n",
       "11    13.696517\n",
       "12    18.757354\n",
       "13    11.094889\n",
       "14    11.094889\n",
       "15    13.696517\n",
       "16    17.363305\n",
       "17    18.757354\n",
       "18     7.428100\n",
       "19    18.757354\n",
       "20    15.714496\n",
       "dtype: float64"
      ]
     },
     "execution_count": 32,
     "metadata": {},
     "output_type": "execute_result"
    }
   ],
   "source": [
    "log_regmodel_predict"
   ]
  },
  {
   "cell_type": "code",
   "execution_count": 33,
   "id": "d260d98b",
   "metadata": {
    "ExecuteTime": {
     "end_time": "2023-05-08T10:23:24.490728Z",
     "start_time": "2023-05-08T10:23:24.468625Z"
    }
   },
   "outputs": [
    {
     "data": {
      "text/plain": [
       "0    -0.982913\n",
       "1    -0.196517\n",
       "2     2.386695\n",
       "3     2.969906\n",
       "4     7.017087\n",
       "5    -2.013305\n",
       "6     0.242646\n",
       "7    -1.594889\n",
       "8    -4.082913\n",
       "9    -2.280094\n",
       "10   -0.134933\n",
       "11   -2.946517\n",
       "12   -2.077354\n",
       "13    0.405111\n",
       "14    0.935111\n",
       "15    1.183483\n",
       "16   -3.613305\n",
       "17   -0.647354\n",
       "18    0.571900\n",
       "19   -0.927354\n",
       "20    5.785504\n",
       "dtype: float64"
      ]
     },
     "execution_count": 33,
     "metadata": {},
     "output_type": "execute_result"
    }
   ],
   "source": [
    "log_regmodel.resid"
   ]
  },
  {
   "cell_type": "code",
   "execution_count": 34,
   "id": "3f3fb79f",
   "metadata": {
    "ExecuteTime": {
     "end_time": "2023-05-08T10:23:28.581197Z",
     "start_time": "2023-05-08T10:23:28.562530Z"
    }
   },
   "outputs": [],
   "source": [
    "log_regmodel_rmse = np.sqrt(np.mean((np.array(data['Delivery Time'])-np.array(log_regmodel_predict))**2))"
   ]
  },
  {
   "cell_type": "code",
   "execution_count": 35,
   "id": "06b9dbaf",
   "metadata": {
    "ExecuteTime": {
     "end_time": "2023-05-08T10:23:31.925924Z",
     "start_time": "2023-05-08T10:23:31.905517Z"
    }
   },
   "outputs": [
    {
     "data": {
      "text/plain": [
       "2.733171476682066"
      ]
     },
     "execution_count": 35,
     "metadata": {},
     "output_type": "execute_result"
    }
   ],
   "source": [
    "log_regmodel_rmse"
   ]
  },
  {
   "cell_type": "code",
   "execution_count": 48,
   "id": "588dd0f4",
   "metadata": {
    "ExecuteTime": {
     "end_time": "2023-05-08T10:27:19.006503Z",
     "start_time": "2023-05-08T10:27:18.769890Z"
    }
   },
   "outputs": [
    {
     "data": {
      "image/png": "[encoded data removed]",
      "text/plain": [
       "<Figure size 640x480 with 1 Axes>"
      ]
     },
     "metadata": {},
     "output_type": "display_data"
    }
   ],
   "source": [
    "## Scatter Plot for Logarithemic Model\n",
    "plt.scatter(x=data['Sorting Time'],y=data['Delivery Time'],c='purple')\n",
    "plt.plot(data['Sorting Time'],log_regmodel_predict,color='black');\n",
    "##plt.plot(data['Sorting Time'],log_regmodel_predict,c='red')\n",
    "plt.show()"
   ]
  },
  {
   "cell_type": "code",
   "execution_count": 39,
   "id": "10372031",
   "metadata": {
    "ExecuteTime": {
     "end_time": "2023-05-08T10:23:53.446165Z",
     "start_time": "2023-05-08T10:23:53.414518Z"
    }
   },
   "outputs": [
    {
     "data": {
      "text/plain": [
       "<statsmodels.regression.linear_model.RegressionResultsWrapper at 0x1a717611e40>"
      ]
     },
     "execution_count": 39,
     "metadata": {},
     "output_type": "execute_result"
    }
   ],
   "source": [
    "## Exponential transfer\n",
    "exp_regmodel=smf.ols(\"np.log(data['Delivery Time'])~data['Sorting Time']\",data=data).fit()\n",
    "exp_regmodel"
   ]
  },
  {
   "cell_type": "code",
   "execution_count": 40,
   "id": "4bdf1840",
   "metadata": {
    "ExecuteTime": {
     "end_time": "2023-05-08T10:23:58.002127Z",
     "start_time": "2023-05-08T10:23:57.959569Z"
    }
   },
   "outputs": [
    {
     "data": {
      "text/html": [
       "<table class=\"simpletable\">\n",
       "<caption>OLS Regression Results</caption>\n",
       "<tr>\n",
       "  <th>Dep. Variable:</th>    <td>np.log(data['Delivery Time'])</td> <th>  R-squared:         </th> <td>   0.711</td>\n",
       "</tr>\n",
       "<tr>\n",
       "  <th>Model:</th>                         <td>OLS</td>              <th>  Adj. R-squared:    </th> <td>   0.696</td>\n",
       "</tr>\n",
       "<tr>\n",
       "  <th>Method:</th>                   <td>Least Squares</td>         <th>  F-statistic:       </th> <td>   46.73</td>\n",
       "</tr>\n",
       "<tr>\n",
       "  <th>Date:</th>                   <td>Mon, 08 May 2023</td>        <th>  Prob (F-statistic):</th> <td>1.59e-06</td>\n",
       "</tr>\n",
       "<tr>\n",
       "  <th>Time:</th>                       <td>15:53:57</td>            <th>  Log-Likelihood:    </th> <td>  7.7920</td>\n",
       "</tr>\n",
       "<tr>\n",
       "  <th>No. Observations:</th>            <td>    21</td>             <th>  AIC:               </th> <td>  -11.58</td>\n",
       "</tr>\n",
       "<tr>\n",
       "  <th>Df Residuals:</th>                <td>    19</td>             <th>  BIC:               </th> <td>  -9.495</td>\n",
       "</tr>\n",
       "<tr>\n",
       "  <th>Df Model:</th>                    <td>     1</td>             <th>                     </th>     <td> </td>   \n",
       "</tr>\n",
       "<tr>\n",
       "  <th>Covariance Type:</th>            <td>nonrobust</td>           <th>                     </th>     <td> </td>   \n",
       "</tr>\n",
       "</table>\n",
       "<table class=\"simpletable\">\n",
       "<tr>\n",
       "            <td></td>              <th>coef</th>     <th>std err</th>      <th>t</th>      <th>P>|t|</th>  <th>[0.025</th>    <th>0.975]</th>  \n",
       "</tr>\n",
       "<tr>\n",
       "  <th>Intercept</th>            <td>    2.1214</td> <td>    0.103</td> <td>   20.601</td> <td> 0.000</td> <td>    1.906</td> <td>    2.337</td>\n",
       "</tr>\n",
       "<tr>\n",
       "  <th>data['Sorting Time']</th> <td>    0.1056</td> <td>    0.015</td> <td>    6.836</td> <td> 0.000</td> <td>    0.073</td> <td>    0.138</td>\n",
       "</tr>\n",
       "</table>\n",
       "<table class=\"simpletable\">\n",
       "<tr>\n",
       "  <th>Omnibus:</th>       <td> 1.238</td> <th>  Durbin-Watson:     </th> <td>   1.325</td>\n",
       "</tr>\n",
       "<tr>\n",
       "  <th>Prob(Omnibus):</th> <td> 0.538</td> <th>  Jarque-Bera (JB):  </th> <td>   0.544</td>\n",
       "</tr>\n",
       "<tr>\n",
       "  <th>Skew:</th>          <td> 0.393</td> <th>  Prob(JB):          </th> <td>   0.762</td>\n",
       "</tr>\n",
       "<tr>\n",
       "  <th>Kurtosis:</th>      <td> 3.067</td> <th>  Cond. No.          </th> <td>    18.3</td>\n",
       "</tr>\n",
       "</table><br/><br/>Notes:<br/>[1] Standard Errors assume that the covariance matrix of the errors is correctly specified."
      ],
      "text/plain": [
       "<class 'statsmodels.iolib.summary.Summary'>\n",
       "\"\"\"\n",
       "                                  OLS Regression Results                                 \n",
       "=========================================================================================\n",
       "Dep. Variable:     np.log(data['Delivery Time'])   R-squared:                       0.711\n",
       "Model:                                       OLS   Adj. R-squared:                  0.696\n",
       "Method:                            Least Squares   F-statistic:                     46.73\n",
       "Date:                           Mon, 08 May 2023   Prob (F-statistic):           1.59e-06\n",
       "Time:                                   15:53:57   Log-Likelihood:                 7.7920\n",
       "No. Observations:                             21   AIC:                            -11.58\n",
       "Df Residuals:                                 19   BIC:                            -9.495\n",
       "Df Model:                                      1                                         \n",
       "Covariance Type:                       nonrobust                                         \n",
       "========================================================================================\n",
       "                           coef    std err          t      P>|t|      [0.025      0.975]\n",
       "----------------------------------------------------------------------------------------\n",
       "Intercept                2.1214      0.103     20.601      0.000       1.906       2.337\n",
       "data['Sorting Time']     0.1056      0.015      6.836      0.000       0.073       0.138\n",
       "==============================================================================\n",
       "Omnibus:                        1.238   Durbin-Watson:                   1.325\n",
       "Prob(Omnibus):                  0.538   Jarque-Bera (JB):                0.544\n",
       "Skew:                           0.393   Prob(JB):                        0.762\n",
       "Kurtosis:                       3.067   Cond. No.                         18.3\n",
       "==============================================================================\n",
       "\n",
       "Notes:\n",
       "[1] Standard Errors assume that the covariance matrix of the errors is correctly specified.\n",
       "\"\"\""
      ]
     },
     "execution_count": 40,
     "metadata": {},
     "output_type": "execute_result"
    }
   ],
   "source": [
    "exp_regmodel.summary()\n",
    "##Rsquare is 71% for Exponential Model."
   ]
  },
  {
   "cell_type": "code",
   "execution_count": 84,
   "id": "ad5f1204",
   "metadata": {
    "ExecuteTime": {
     "end_time": "2023-05-08T10:56:04.576123Z",
     "start_time": "2023-05-08T10:56:04.552149Z"
    }
   },
   "outputs": [
    {
     "data": {
      "text/plain": [
       "0     23.972032\n",
       "1     12.725123\n",
       "2     15.716034\n",
       "3     21.570707\n",
       "4     23.972032\n",
       "5     15.716034\n",
       "6     17.465597\n",
       "7     11.450423\n",
       "8     23.972032\n",
       "9     21.570707\n",
       "10    19.409927\n",
       "11    12.725123\n",
       "12    17.465597\n",
       "13    11.450423\n",
       "14    11.450423\n",
       "15    12.725123\n",
       "16    15.716034\n",
       "17    17.465597\n",
       "18    10.303411\n",
       "19    17.465597\n",
       "20    14.141728\n",
       "dtype: float64"
      ]
     },
     "execution_count": 84,
     "metadata": {},
     "output_type": "execute_result"
    }
   ],
   "source": [
    "exp_regmodel_predict=np.exp(exp_regmodel.predict(data['Sorting Time']))\n",
    "exp_regmodel_predict"
   ]
  },
  {
   "cell_type": "code",
   "execution_count": 85,
   "id": "d5512e04",
   "metadata": {
    "ExecuteTime": {
     "end_time": "2023-05-08T10:56:09.559355Z",
     "start_time": "2023-05-08T10:56:09.543210Z"
    }
   },
   "outputs": [
    {
     "data": {
      "text/plain": [
       "0    -0.132365\n",
       "1     0.059111\n",
       "2     0.228472\n",
       "3     0.106718\n",
       "4     0.190408\n",
       "5    -0.023566\n",
       "6     0.084206\n",
       "7    -0.186735\n",
       "8    -0.292087\n",
       "9    -0.140142\n",
       "10    0.021411\n",
       "11   -0.168672\n",
       "12   -0.046023\n",
       "13    0.004320\n",
       "14    0.049377\n",
       "15    0.156440\n",
       "16   -0.133643\n",
       "17    0.036231\n",
       "18   -0.253034\n",
       "19    0.020649\n",
       "20    0.418923\n",
       "dtype: float64"
      ]
     },
     "execution_count": 85,
     "metadata": {},
     "output_type": "execute_result"
    }
   ],
   "source": [
    "exp_regmodel_resid=exp_regmodel.resid\n",
    "exp_regmodel_resid"
   ]
  },
  {
   "cell_type": "code",
   "execution_count": 86,
   "id": "2944cd50",
   "metadata": {
    "ExecuteTime": {
     "end_time": "2023-05-08T10:56:19.007949Z",
     "start_time": "2023-05-08T10:56:18.988377Z"
    }
   },
   "outputs": [],
   "source": [
    "exp_regmodel_rmse=np.sqrt(np.mean((np.array(data['Delivery Time'])-np.array(exp_regmodel_predict))**2))"
   ]
  },
  {
   "cell_type": "code",
   "execution_count": 87,
   "id": "664a0aef",
   "metadata": {
    "ExecuteTime": {
     "end_time": "2023-05-08T10:56:21.080666Z",
     "start_time": "2023-05-08T10:56:21.066201Z"
    }
   },
   "outputs": [
    {
     "data": {
      "text/plain": [
       "2.940250323056201"
      ]
     },
     "execution_count": 87,
     "metadata": {},
     "output_type": "execute_result"
    }
   ],
   "source": [
    "exp_regmodel_rmse"
   ]
  },
  {
   "cell_type": "code",
   "execution_count": 88,
   "id": "17d54a84",
   "metadata": {
    "ExecuteTime": {
     "end_time": "2023-05-08T10:56:36.874993Z",
     "start_time": "2023-05-08T10:56:36.503900Z"
    }
   },
   "outputs": [
    {
     "data": {
      "text/plain": [
       "Text(0.5, 1.0, ' Plot for Exponential Transformation Values')"
      ]
     },
     "execution_count": 88,
     "metadata": {},
     "output_type": "execute_result"
    },
    {
     "data": {
      "image/png": "[encoded data removed]",
      "text/plain": [
       "<Figure size 640x480 with 1 Axes>"
      ]
     },
     "metadata": {},
     "output_type": "display_data"
    }
   ],
   "source": [
    "plt.scatter(data['Sorting Time'],data['Delivery Time'],c='Purple')\n",
    "plt.plot(data['Sorting Time'],exp_regmodel_predict,c='red')\n",
    "plt.xlabel('Sorting Time')\n",
    "plt.ylabel('Delivery Time')\n",
    "plt.title(\" Plot for Exponential Transformation Values\")"
   ]
  },
  {
   "cell_type": "code",
   "execution_count": 52,
   "id": "f60a9823",
   "metadata": {
    "ExecuteTime": {
     "end_time": "2023-05-08T10:32:25.362261Z",
     "start_time": "2023-05-08T10:32:25.338639Z"
    }
   },
   "outputs": [],
   "source": [
    "##Quadratic Transformation y= b0+b1(x)+b2(x**2)\n",
    "data['Sorting Time Square']=data['Sorting Time']*data['Sorting Time']\n"
   ]
  },
  {
   "cell_type": "code",
   "execution_count": 53,
   "id": "d4202035",
   "metadata": {
    "ExecuteTime": {
     "end_time": "2023-05-08T10:32:29.905260Z",
     "start_time": "2023-05-08T10:32:29.875855Z"
    }
   },
   "outputs": [
    {
     "data": {
      "text/html": [
       "<div>\n",
       "<style scoped>\n",
       "    .dataframe tbody tr th:only-of-type {\n",
       "        vertical-align: middle;\n",
       "    }\n",
       "\n",
       "    .dataframe tbody tr th {\n",
       "        vertical-align: top;\n",
       "    }\n",
       "\n",
       "    .dataframe thead th {\n",
       "        text-align: right;\n",
       "    }\n",
       "</style>\n",
       "<table border=\"1\" class=\"dataframe\">\n",
       "  <thead>\n",
       "    <tr style=\"text-align: right;\">\n",
       "      <th></th>\n",
       "      <th>Delivery Time</th>\n",
       "      <th>Sorting Time</th>\n",
       "      <th>Sorting Time Square</th>\n",
       "    </tr>\n",
       "  </thead>\n",
       "  <tbody>\n",
       "    <tr>\n",
       "      <th>0</th>\n",
       "      <td>21.00</td>\n",
       "      <td>10</td>\n",
       "      <td>100</td>\n",
       "    </tr>\n",
       "    <tr>\n",
       "      <th>1</th>\n",
       "      <td>13.50</td>\n",
       "      <td>4</td>\n",
       "      <td>16</td>\n",
       "    </tr>\n",
       "    <tr>\n",
       "      <th>2</th>\n",
       "      <td>19.75</td>\n",
       "      <td>6</td>\n",
       "      <td>36</td>\n",
       "    </tr>\n",
       "    <tr>\n",
       "      <th>3</th>\n",
       "      <td>24.00</td>\n",
       "      <td>9</td>\n",
       "      <td>81</td>\n",
       "    </tr>\n",
       "    <tr>\n",
       "      <th>4</th>\n",
       "      <td>29.00</td>\n",
       "      <td>10</td>\n",
       "      <td>100</td>\n",
       "    </tr>\n",
       "    <tr>\n",
       "      <th>5</th>\n",
       "      <td>15.35</td>\n",
       "      <td>6</td>\n",
       "      <td>36</td>\n",
       "    </tr>\n",
       "    <tr>\n",
       "      <th>6</th>\n",
       "      <td>19.00</td>\n",
       "      <td>7</td>\n",
       "      <td>49</td>\n",
       "    </tr>\n",
       "    <tr>\n",
       "      <th>7</th>\n",
       "      <td>9.50</td>\n",
       "      <td>3</td>\n",
       "      <td>9</td>\n",
       "    </tr>\n",
       "    <tr>\n",
       "      <th>8</th>\n",
       "      <td>17.90</td>\n",
       "      <td>10</td>\n",
       "      <td>100</td>\n",
       "    </tr>\n",
       "    <tr>\n",
       "      <th>9</th>\n",
       "      <td>18.75</td>\n",
       "      <td>9</td>\n",
       "      <td>81</td>\n",
       "    </tr>\n",
       "    <tr>\n",
       "      <th>10</th>\n",
       "      <td>19.83</td>\n",
       "      <td>8</td>\n",
       "      <td>64</td>\n",
       "    </tr>\n",
       "    <tr>\n",
       "      <th>11</th>\n",
       "      <td>10.75</td>\n",
       "      <td>4</td>\n",
       "      <td>16</td>\n",
       "    </tr>\n",
       "    <tr>\n",
       "      <th>12</th>\n",
       "      <td>16.68</td>\n",
       "      <td>7</td>\n",
       "      <td>49</td>\n",
       "    </tr>\n",
       "    <tr>\n",
       "      <th>13</th>\n",
       "      <td>11.50</td>\n",
       "      <td>3</td>\n",
       "      <td>9</td>\n",
       "    </tr>\n",
       "    <tr>\n",
       "      <th>14</th>\n",
       "      <td>12.03</td>\n",
       "      <td>3</td>\n",
       "      <td>9</td>\n",
       "    </tr>\n",
       "    <tr>\n",
       "      <th>15</th>\n",
       "      <td>14.88</td>\n",
       "      <td>4</td>\n",
       "      <td>16</td>\n",
       "    </tr>\n",
       "    <tr>\n",
       "      <th>16</th>\n",
       "      <td>13.75</td>\n",
       "      <td>6</td>\n",
       "      <td>36</td>\n",
       "    </tr>\n",
       "    <tr>\n",
       "      <th>17</th>\n",
       "      <td>18.11</td>\n",
       "      <td>7</td>\n",
       "      <td>49</td>\n",
       "    </tr>\n",
       "    <tr>\n",
       "      <th>18</th>\n",
       "      <td>8.00</td>\n",
       "      <td>2</td>\n",
       "      <td>4</td>\n",
       "    </tr>\n",
       "    <tr>\n",
       "      <th>19</th>\n",
       "      <td>17.83</td>\n",
       "      <td>7</td>\n",
       "      <td>49</td>\n",
       "    </tr>\n",
       "    <tr>\n",
       "      <th>20</th>\n",
       "      <td>21.50</td>\n",
       "      <td>5</td>\n",
       "      <td>25</td>\n",
       "    </tr>\n",
       "  </tbody>\n",
       "</table>\n",
       "</div>"
      ],
      "text/plain": [
       "    Delivery Time  Sorting Time  Sorting Time Square\n",
       "0           21.00            10                  100\n",
       "1           13.50             4                   16\n",
       "2           19.75             6                   36\n",
       "3           24.00             9                   81\n",
       "4           29.00            10                  100\n",
       "5           15.35             6                   36\n",
       "6           19.00             7                   49\n",
       "7            9.50             3                    9\n",
       "8           17.90            10                  100\n",
       "9           18.75             9                   81\n",
       "10          19.83             8                   64\n",
       "11          10.75             4                   16\n",
       "12          16.68             7                   49\n",
       "13          11.50             3                    9\n",
       "14          12.03             3                    9\n",
       "15          14.88             4                   16\n",
       "16          13.75             6                   36\n",
       "17          18.11             7                   49\n",
       "18           8.00             2                    4\n",
       "19          17.83             7                   49\n",
       "20          21.50             5                   25"
      ]
     },
     "execution_count": 53,
     "metadata": {},
     "output_type": "execute_result"
    }
   ],
   "source": [
    "data"
   ]
  },
  {
   "cell_type": "code",
   "execution_count": 63,
   "id": "de6c472b",
   "metadata": {
    "ExecuteTime": {
     "end_time": "2023-05-08T10:36:02.225578Z",
     "start_time": "2023-05-08T10:36:02.171487Z"
    }
   },
   "outputs": [
    {
     "data": {
      "text/html": [
       "<table class=\"simpletable\">\n",
       "<caption>OLS Regression Results</caption>\n",
       "<tr>\n",
       "  <th>Dep. Variable:</th>    <td>np.log(data['Delivery Time'])</td> <th>  R-squared:         </th> <td>   0.765</td>\n",
       "</tr>\n",
       "<tr>\n",
       "  <th>Model:</th>                         <td>OLS</td>              <th>  Adj. R-squared:    </th> <td>   0.739</td>\n",
       "</tr>\n",
       "<tr>\n",
       "  <th>Method:</th>                   <td>Least Squares</td>         <th>  F-statistic:       </th> <td>   29.28</td>\n",
       "</tr>\n",
       "<tr>\n",
       "  <th>Date:</th>                   <td>Mon, 08 May 2023</td>        <th>  Prob (F-statistic):</th> <td>2.20e-06</td>\n",
       "</tr>\n",
       "<tr>\n",
       "  <th>Time:</th>                       <td>16:06:02</td>            <th>  Log-Likelihood:    </th> <td>  9.9597</td>\n",
       "</tr>\n",
       "<tr>\n",
       "  <th>No. Observations:</th>            <td>    21</td>             <th>  AIC:               </th> <td>  -13.92</td>\n",
       "</tr>\n",
       "<tr>\n",
       "  <th>Df Residuals:</th>                <td>    18</td>             <th>  BIC:               </th> <td>  -10.79</td>\n",
       "</tr>\n",
       "<tr>\n",
       "  <th>Df Model:</th>                    <td>     2</td>             <th>                     </th>     <td> </td>   \n",
       "</tr>\n",
       "<tr>\n",
       "  <th>Covariance Type:</th>            <td>nonrobust</td>           <th>                     </th>     <td> </td>   \n",
       "</tr>\n",
       "</table>\n",
       "<table class=\"simpletable\">\n",
       "<tr>\n",
       "               <td></td>                  <th>coef</th>     <th>std err</th>      <th>t</th>      <th>P>|t|</th>  <th>[0.025</th>    <th>0.975]</th>  \n",
       "</tr>\n",
       "<tr>\n",
       "  <th>Intercept</th>                   <td>    1.6997</td> <td>    0.228</td> <td>    7.441</td> <td> 0.000</td> <td>    1.220</td> <td>    2.180</td>\n",
       "</tr>\n",
       "<tr>\n",
       "  <th>data['Sorting Time']</th>        <td>    0.2659</td> <td>    0.080</td> <td>    3.315</td> <td> 0.004</td> <td>    0.097</td> <td>    0.434</td>\n",
       "</tr>\n",
       "<tr>\n",
       "  <th>data['Sorting Time Square']</th> <td>   -0.0128</td> <td>    0.006</td> <td>   -2.032</td> <td> 0.057</td> <td>   -0.026</td> <td>    0.000</td>\n",
       "</tr>\n",
       "</table>\n",
       "<table class=\"simpletable\">\n",
       "<tr>\n",
       "  <th>Omnibus:</th>       <td> 2.548</td> <th>  Durbin-Watson:     </th> <td>   1.369</td>\n",
       "</tr>\n",
       "<tr>\n",
       "  <th>Prob(Omnibus):</th> <td> 0.280</td> <th>  Jarque-Bera (JB):  </th> <td>   1.777</td>\n",
       "</tr>\n",
       "<tr>\n",
       "  <th>Skew:</th>          <td> 0.708</td> <th>  Prob(JB):          </th> <td>   0.411</td>\n",
       "</tr>\n",
       "<tr>\n",
       "  <th>Kurtosis:</th>      <td> 2.846</td> <th>  Cond. No.          </th> <td>    373.</td>\n",
       "</tr>\n",
       "</table><br/><br/>Notes:<br/>[1] Standard Errors assume that the covariance matrix of the errors is correctly specified."
      ],
      "text/plain": [
       "<class 'statsmodels.iolib.summary.Summary'>\n",
       "\"\"\"\n",
       "                                  OLS Regression Results                                 \n",
       "=========================================================================================\n",
       "Dep. Variable:     np.log(data['Delivery Time'])   R-squared:                       0.765\n",
       "Model:                                       OLS   Adj. R-squared:                  0.739\n",
       "Method:                            Least Squares   F-statistic:                     29.28\n",
       "Date:                           Mon, 08 May 2023   Prob (F-statistic):           2.20e-06\n",
       "Time:                                   16:06:02   Log-Likelihood:                 9.9597\n",
       "No. Observations:                             21   AIC:                            -13.92\n",
       "Df Residuals:                                 18   BIC:                            -10.79\n",
       "Df Model:                                      2                                         \n",
       "Covariance Type:                       nonrobust                                         \n",
       "===============================================================================================\n",
       "                                  coef    std err          t      P>|t|      [0.025      0.975]\n",
       "-----------------------------------------------------------------------------------------------\n",
       "Intercept                       1.6997      0.228      7.441      0.000       1.220       2.180\n",
       "data['Sorting Time']            0.2659      0.080      3.315      0.004       0.097       0.434\n",
       "data['Sorting Time Square']    -0.0128      0.006     -2.032      0.057      -0.026       0.000\n",
       "==============================================================================\n",
       "Omnibus:                        2.548   Durbin-Watson:                   1.369\n",
       "Prob(Omnibus):                  0.280   Jarque-Bera (JB):                1.777\n",
       "Skew:                           0.708   Prob(JB):                        0.411\n",
       "Kurtosis:                       2.846   Cond. No.                         373.\n",
       "==============================================================================\n",
       "\n",
       "Notes:\n",
       "[1] Standard Errors assume that the covariance matrix of the errors is correctly specified.\n",
       "\"\"\""
      ]
     },
     "execution_count": 63,
     "metadata": {},
     "output_type": "execute_result"
    }
   ],
   "source": [
    "quad_regmodel=smf.ols(\"np.log(data['Delivery Time'])~data['Sorting Time']+data['Sorting Time Square']\",data=data).fit()\n",
    "quad_regmodel.summary()"
   ]
  },
  {
   "cell_type": "code",
   "execution_count": 99,
   "id": "0863fe8d",
   "metadata": {
    "ExecuteTime": {
     "end_time": "2023-05-08T12:26:15.199904Z",
     "start_time": "2023-05-08T12:26:15.176182Z"
    }
   },
   "outputs": [
    {
     "data": {
      "text/plain": [
       "-13.919465587090826"
      ]
     },
     "execution_count": 99,
     "metadata": {},
     "output_type": "execute_result"
    }
   ],
   "source": [
    "quad_regmodel.aic"
   ]
  },
  {
   "cell_type": "code",
   "execution_count": 68,
   "id": "3f344902",
   "metadata": {
    "ExecuteTime": {
     "end_time": "2023-05-08T10:37:37.256528Z",
     "start_time": "2023-05-08T10:37:37.244904Z"
    }
   },
   "outputs": [
    {
     "data": {
      "text/plain": [
       "0.764866634295373"
      ]
     },
     "execution_count": 68,
     "metadata": {},
     "output_type": "execute_result"
    }
   ],
   "source": [
    "##Rsquare value for quadratic model\n",
    "## We got 76% \n",
    "quad_regmodel.rsquared"
   ]
  },
  {
   "cell_type": "code",
   "execution_count": 70,
   "id": "d17db941",
   "metadata": {
    "ExecuteTime": {
     "end_time": "2023-05-08T10:38:56.322797Z",
     "start_time": "2023-05-08T10:38:56.294669Z"
    }
   },
   "outputs": [
    {
     "data": {
      "text/plain": [
       "0     3.074863\n",
       "1     2.557942\n",
       "2     2.832974\n",
       "3     3.052913\n",
       "4     3.074863\n",
       "5     2.832974\n",
       "6     2.931968\n",
       "7     2.381905\n",
       "8     3.074863\n",
       "9     3.052913\n",
       "10    3.005281\n",
       "11    2.557942\n",
       "12    2.931968\n",
       "13    2.381905\n",
       "14    2.381905\n",
       "15    2.557942\n",
       "16    2.832974\n",
       "17    2.931968\n",
       "18    2.180186\n",
       "19    2.931968\n",
       "20    2.708299\n",
       "dtype: float64"
      ]
     },
     "execution_count": 70,
     "metadata": {},
     "output_type": "execute_result"
    }
   ],
   "source": [
    "quad_regmodel_predict=quad_regmodel.predict(data)\n",
    "quad_regmodel_predict"
   ]
  },
  {
   "cell_type": "code",
   "execution_count": 74,
   "id": "4fca6286",
   "metadata": {
    "ExecuteTime": {
     "end_time": "2023-05-08T10:45:20.452456Z",
     "start_time": "2023-05-08T10:45:20.434956Z"
    }
   },
   "outputs": [
    {
     "data": {
      "text/plain": [
       "0     21.646921\n",
       "1     12.909227\n",
       "2     16.995933\n",
       "3     21.176938\n",
       "4     21.646921\n",
       "5     16.995933\n",
       "6     18.764526\n",
       "7     10.825502\n",
       "8     21.646921\n",
       "9     21.176938\n",
       "10    20.191891\n",
       "11    12.909227\n",
       "12    18.764526\n",
       "13    10.825502\n",
       "14    10.825502\n",
       "15    12.909227\n",
       "16    16.995933\n",
       "17    18.764526\n",
       "18     8.847949\n",
       "19    18.764526\n",
       "20    15.003730\n",
       "dtype: float64"
      ]
     },
     "execution_count": 74,
     "metadata": {},
     "output_type": "execute_result"
    }
   ],
   "source": [
    "quad_regmodel_exp_predict=np.exp(quad_regmodel_predict)\n",
    "quad_regmodel_exp_predict"
   ]
  },
  {
   "cell_type": "code",
   "execution_count": 82,
   "id": "fcdd9a73",
   "metadata": {
    "ExecuteTime": {
     "end_time": "2023-05-08T10:48:31.239305Z",
     "start_time": "2023-05-08T10:48:31.224946Z"
    }
   },
   "outputs": [
    {
     "data": {
      "text/plain": [
       "0     21.00\n",
       "1     13.50\n",
       "2     19.75\n",
       "3     24.00\n",
       "4     29.00\n",
       "5     15.35\n",
       "6     19.00\n",
       "7      9.50\n",
       "8     17.90\n",
       "9     18.75\n",
       "10    19.83\n",
       "11    10.75\n",
       "12    16.68\n",
       "13    11.50\n",
       "14    12.03\n",
       "15    14.88\n",
       "16    13.75\n",
       "17    18.11\n",
       "18     8.00\n",
       "19    17.83\n",
       "20    21.50\n",
       "Name: Delivery Time, dtype: float64"
      ]
     },
     "execution_count": 82,
     "metadata": {},
     "output_type": "execute_result"
    }
   ],
   "source": [
    "data['Delivery Time']"
   ]
  },
  {
   "cell_type": "code",
   "execution_count": 81,
   "id": "944f1ce8",
   "metadata": {
    "ExecuteTime": {
     "end_time": "2023-05-08T10:48:01.208516Z",
     "start_time": "2023-05-08T10:48:01.181380Z"
    }
   },
   "outputs": [
    {
     "data": {
      "text/plain": [
       "0    -0.030341\n",
       "1     0.044747\n",
       "2     0.150179\n",
       "3     0.125141\n",
       "4     0.292433\n",
       "5    -0.101859\n",
       "6     0.012471\n",
       "7    -0.130613\n",
       "8    -0.190063\n",
       "9    -0.121719\n",
       "10   -0.018085\n",
       "11   -0.183037\n",
       "12   -0.117758\n",
       "13    0.060442\n",
       "14    0.105499\n",
       "15    0.142076\n",
       "16   -0.211935\n",
       "17   -0.035504\n",
       "18   -0.100744\n",
       "19   -0.051086\n",
       "20    0.359754\n",
       "dtype: float64"
      ]
     },
     "execution_count": 81,
     "metadata": {},
     "output_type": "execute_result"
    }
   ],
   "source": [
    "quad_regmodel_resid=quad_regmodel.resid\n",
    "quad_regmodel_resid"
   ]
  },
  {
   "cell_type": "code",
   "execution_count": 83,
   "id": "e072e570",
   "metadata": {
    "ExecuteTime": {
     "end_time": "2023-05-08T10:50:27.384973Z",
     "start_time": "2023-05-08T10:50:27.372544Z"
    }
   },
   "outputs": [
    {
     "data": {
      "text/plain": [
       "2.799041988740925"
      ]
     },
     "execution_count": 83,
     "metadata": {},
     "output_type": "execute_result"
    }
   ],
   "source": [
    "quad_regmodel_rmse=np.sqrt(np.mean((np.array(data['Delivery Time'])-np.array(quad_regmodel_exp_predict))**2))\n",
    "quad_regmodel_rmse"
   ]
  },
  {
   "cell_type": "code",
   "execution_count": 94,
   "id": "39403e1a",
   "metadata": {
    "ExecuteTime": {
     "end_time": "2023-05-08T11:00:20.122399Z",
     "start_time": "2023-05-08T11:00:19.824911Z"
    }
   },
   "outputs": [
    {
     "data": {
      "text/plain": [
       "[<matplotlib.lines.Line2D at 0x1a71da75f90>]"
      ]
     },
     "execution_count": 94,
     "metadata": {},
     "output_type": "execute_result"
    },
    {
     "data": {
      "image/png": "[encoded data removed]",
      "text/plain": [
       "<Figure size 640x480 with 1 Axes>"
      ]
     },
     "metadata": {},
     "output_type": "display_data"
    }
   ],
   "source": [
    "plt.scatter(x=data['Sorting Time'],y=data['Delivery Time'],c='green')\n",
    "plt.plot(data['Sorting Time'],quad_regmodel_exp_predict,c='yellow')\n"
   ]
  },
  {
   "cell_type": "code",
   "execution_count": 105,
   "id": "6aec1cb1",
   "metadata": {
    "ExecuteTime": {
     "end_time": "2023-05-08T12:29:39.697871Z",
     "start_time": "2023-05-08T12:29:39.673785Z"
    }
   },
   "outputs": [],
   "source": [
    "resulf_df=pd.DataFrame({\n",
    "           'Model':pd.Series(['Linear','Exponential','Log','Quadratic']),\n",
    "           'R Square':pd.Series([regmodel1.rsquared,exp_regmodel.rsquared,log_regmodel.rsquared,quad_regmodel.rsquared]),\n",
    "           'RMSE':pd.Series([rmse_regmodel1,exp_regmodel_rmse,log_regmodel_rmse,quad_regmodel_rmse]),\n",
    "           'AIC':pd.Series([regmodel1.aic,exp_regmodel.aic,log_regmodel.aic,quad_regmodel.aic]),\n",
    "           'BIC':pd.Series([regmodel1.bic,exp_regmodel.bic,log_regmodel.bic,quad_regmodel.bic])\n",
    "                        })"
   ]
  },
  {
   "cell_type": "code",
   "execution_count": 106,
   "id": "e729a0fe",
   "metadata": {
    "ExecuteTime": {
     "end_time": "2023-05-08T12:29:43.217608Z",
     "start_time": "2023-05-08T12:29:43.195628Z"
    }
   },
   "outputs": [
    {
     "data": {
      "text/html": [
       "<div>\n",
       "<style scoped>\n",
       "    .dataframe tbody tr th:only-of-type {\n",
       "        vertical-align: middle;\n",
       "    }\n",
       "\n",
       "    .dataframe tbody tr th {\n",
       "        vertical-align: top;\n",
       "    }\n",
       "\n",
       "    .dataframe thead th {\n",
       "        text-align: right;\n",
       "    }\n",
       "</style>\n",
       "<table border=\"1\" class=\"dataframe\">\n",
       "  <thead>\n",
       "    <tr style=\"text-align: right;\">\n",
       "      <th></th>\n",
       "      <th>Model</th>\n",
       "      <th>R Square</th>\n",
       "      <th>RMSE</th>\n",
       "      <th>AIC</th>\n",
       "      <th>BIC</th>\n",
       "    </tr>\n",
       "  </thead>\n",
       "  <tbody>\n",
       "    <tr>\n",
       "      <th>0</th>\n",
       "      <td>Linear</td>\n",
       "      <td>0.682271</td>\n",
       "      <td>2.791650</td>\n",
       "      <td>106.714002</td>\n",
       "      <td>108.803047</td>\n",
       "    </tr>\n",
       "    <tr>\n",
       "      <th>1</th>\n",
       "      <td>Exponential</td>\n",
       "      <td>0.710948</td>\n",
       "      <td>2.940250</td>\n",
       "      <td>-11.583930</td>\n",
       "      <td>-9.494885</td>\n",
       "    </tr>\n",
       "    <tr>\n",
       "      <th>2</th>\n",
       "      <td>Log</td>\n",
       "      <td>0.695443</td>\n",
       "      <td>2.733171</td>\n",
       "      <td>105.824850</td>\n",
       "      <td>107.913894</td>\n",
       "    </tr>\n",
       "    <tr>\n",
       "      <th>3</th>\n",
       "      <td>Quadratic</td>\n",
       "      <td>0.764867</td>\n",
       "      <td>2.799042</td>\n",
       "      <td>-13.919466</td>\n",
       "      <td>-10.785898</td>\n",
       "    </tr>\n",
       "  </tbody>\n",
       "</table>\n",
       "</div>"
      ],
      "text/plain": [
       "         Model  R Square      RMSE         AIC         BIC\n",
       "0       Linear  0.682271  2.791650  106.714002  108.803047\n",
       "1  Exponential  0.710948  2.940250  -11.583930   -9.494885\n",
       "2          Log  0.695443  2.733171  105.824850  107.913894\n",
       "3    Quadratic  0.764867  2.799042  -13.919466  -10.785898"
      ]
     },
     "execution_count": 106,
     "metadata": {},
     "output_type": "execute_result"
    }
   ],
   "source": [
    "resulf_df"
   ]
  },
  {
   "cell_type": "code",
   "execution_count": null,
   "id": "1cd28bf3",
   "metadata": {},
   "outputs": [],
   "source": [
    "## We select Quadratic model as r square is 76%"
   ]
  }
 ],
 "metadata": {
  "kernelspec": {
   "display_name": "Python 3 (ipykernel)",
   "language": "python",
   "name": "python3"
  },
  "language_info": {
   "codemirror_mode": {
    "name": "ipython",
    "version": 3
   },
   "file_extension": ".py",
   "mimetype": "text/x-python",
   "name": "python",
   "nbconvert_exporter": "python",
   "pygments_lexer": "ipython3",
   "version": "3.10.9"
  }
 },
 "nbformat": 4,
 "nbformat_minor": 5
}
